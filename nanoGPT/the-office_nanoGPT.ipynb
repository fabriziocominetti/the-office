{
  "cells": [
    {
      "cell_type": "markdown",
      "metadata": {},
      "source": [
        "**The Office - NanoGPT**"
      ]
    },
    {
      "cell_type": "code",
      "execution_count": null,
      "metadata": {},
      "outputs": [],
      "source": [
        "#!pip install tiktoken\n",
        "#!pip install transformers"
      ]
    },
    {
      "cell_type": "code",
      "execution_count": null,
      "metadata": {},
      "outputs": [],
      "source": [
        "import os\n",
        "import tiktoken\n",
        "import numpy as np\n",
        "import pandas as pd"
      ]
    },
    {
      "cell_type": "code",
      "execution_count": null,
      "metadata": {},
      "outputs": [
        {
          "name": "stdout",
          "output_type": "stream",
          "text": [
            "Drive already mounted at /content/drive; to attempt to forcibly remount, call drive.mount(\"/content/drive\", force_remount=True).\n"
          ]
        }
      ],
      "source": [
        "# mount drive to use Colab's T4 GPU\n",
        "from google.colab import drive\n",
        "drive.mount('/content/drive')"
      ]
    },
    {
      "cell_type": "code",
      "execution_count": null,
      "metadata": {},
      "outputs": [],
      "source": [
        "!cd"
      ]
    },
    {
      "cell_type": "markdown",
      "metadata": {},
      "source": [
        "Prepare data"
      ]
    },
    {
      "cell_type": "code",
      "execution_count": null,
      "metadata": {},
      "outputs": [
        {
          "name": "stdout",
          "output_type": "stream",
          "text": [
            "train has 950,615 tokens\n",
            "val has 111,662 tokens\n"
          ]
        }
      ],
      "source": [
        "#!cd ./data/the-office/ && python prepare_theoffice.py\n",
        "!cd \"/content/drive/MyDrive/Colab Notebooks/data/the-office/\" && python prepare_theoffice.py"
      ]
    },
    {
      "cell_type": "markdown",
      "metadata": {},
      "source": [
        "Train model"
      ]
    },
    {
      "cell_type": "code",
      "execution_count": null,
      "metadata": {},
      "outputs": [
        {
          "name": "stdout",
          "output_type": "stream",
          "text": [
            "Overriding: dtype = float16\n",
            "Overriding: dataset = the-office\n",
            "Overriding: compile = False\n",
            "Overriding: out_dir = out-theoffice\n",
            "Overriding: n_layer = 4\n",
            "Overriding: n_head = 4\n",
            "Overriding: n_embd = 64\n",
            "Overriding: block_size = 64\n",
            "Overriding: batch_size = 8\n",
            "Overriding: init_from = gpt2\n",
            "Overriding: eval_interval = 100\n",
            "Overriding: eval_iters = 100\n",
            "Overriding: max_iters = 100\n",
            "tokens per iteration will be: 20,480\n",
            "Initializing from OpenAI GPT-2 weights: gpt2\n",
            "loading weights from pretrained gpt: gpt2\n",
            "forcing vocab_size=50257, block_size=1024, bias=True\n",
            "overriding dropout rate to 0.0\n",
            "number of parameters: 123.65M\n",
            "config.json: 100% 665/665 [00:00<00:00, 4.07MB/s]\n",
            "model.safetensors: 100% 548M/548M [00:01<00:00, 291MB/s]\n",
            "generation_config.json: 100% 124/124 [00:00<00:00, 624kB/s]\n",
            "num decayed parameter tensors: 50, with 123,581,184 parameters\n",
            "num non-decayed parameter tensors: 98, with 121,344 parameters\n",
            "using fused AdamW: True\n",
            "step 0: train loss 4.0875, val loss 3.9891\n",
            "iter 0: loss 4.1042, time 6606.83ms, mfu -100.00%\n",
            "iter 1: loss 4.0749, time 1668.18ms, mfu -100.00%\n",
            "iter 2: loss 4.1571, time 1875.06ms, mfu -100.00%\n",
            "iter 3: loss 3.9608, time 1889.38ms, mfu -100.00%\n",
            "iter 4: loss 3.7643, time 1886.18ms, mfu -100.00%\n",
            "iter 5: loss 4.1125, time 1888.27ms, mfu 2.60%\n",
            "iter 6: loss 3.9159, time 1900.33ms, mfu 2.60%\n",
            "iter 7: loss 3.9658, time 1896.68ms, mfu 2.60%\n",
            "iter 8: loss 4.1290, time 1895.51ms, mfu 2.60%\n",
            "iter 9: loss 3.9705, time 1898.74ms, mfu 2.60%\n",
            "iter 10: loss 3.9356, time 1902.95ms, mfu 2.60%\n",
            "iter 11: loss 3.7332, time 1902.64ms, mfu 2.60%\n",
            "iter 12: loss 3.8490, time 1909.62ms, mfu 2.59%\n",
            "iter 13: loss 4.0545, time 1916.14ms, mfu 2.59%\n",
            "iter 14: loss 3.8536, time 1913.71ms, mfu 2.59%\n",
            "iter 15: loss 4.1090, time 1912.74ms, mfu 2.59%\n",
            "iter 16: loss 3.9014, time 1917.51ms, mfu 2.58%\n",
            "iter 17: loss 4.0982, time 1919.79ms, mfu 2.58%\n",
            "iter 18: loss 3.9207, time 1920.98ms, mfu 2.58%\n",
            "iter 19: loss 3.8847, time 1926.18ms, mfu 2.58%\n",
            "iter 20: loss 3.8324, time 1930.38ms, mfu 2.57%\n",
            "iter 21: loss 3.9429, time 1936.06ms, mfu 2.57%\n",
            "iter 22: loss 3.7004, time 1929.68ms, mfu 2.57%\n",
            "iter 23: loss 3.9407, time 1935.12ms, mfu 2.57%\n",
            "iter 24: loss 3.7553, time 1939.11ms, mfu 2.56%\n",
            "iter 25: loss 3.8039, time 1941.76ms, mfu 2.56%\n",
            "iter 26: loss 3.7067, time 1945.16ms, mfu 2.56%\n",
            "iter 27: loss 3.7956, time 1951.60ms, mfu 2.55%\n",
            "iter 28: loss 3.5974, time 1961.66ms, mfu 2.55%\n",
            "iter 29: loss 3.6164, time 1960.38ms, mfu 2.54%\n",
            "iter 30: loss 3.5063, time 1956.46ms, mfu 2.54%\n",
            "iter 31: loss 3.5645, time 1960.98ms, mfu 2.54%\n",
            "iter 32: loss 3.7126, time 1966.78ms, mfu 2.53%\n",
            "iter 33: loss 3.3855, time 1971.07ms, mfu 2.53%\n",
            "iter 34: loss 3.4223, time 1969.13ms, mfu 2.53%\n",
            "iter 35: loss 3.3176, time 1971.77ms, mfu 2.52%\n",
            "iter 36: loss 3.2799, time 1976.27ms, mfu 2.52%\n",
            "iter 37: loss 3.5358, time 1984.33ms, mfu 2.52%\n",
            "iter 38: loss 3.1662, time 1988.37ms, mfu 2.51%\n",
            "iter 39: loss 3.5259, time 1986.99ms, mfu 2.51%\n",
            "iter 40: loss 3.4443, time 2000.16ms, mfu 2.50%\n",
            "iter 41: loss 3.1670, time 1996.68ms, mfu 2.50%\n",
            "iter 42: loss 3.5519, time 2003.00ms, mfu 2.49%\n",
            "iter 43: loss 3.4424, time 2003.79ms, mfu 2.49%\n",
            "iter 44: loss 3.3974, time 2001.52ms, mfu 2.49%\n",
            "iter 45: loss 3.4651, time 2006.75ms, mfu 2.48%\n",
            "iter 46: loss 3.5541, time 2019.33ms, mfu 2.48%\n",
            "iter 47: loss 3.4695, time 2023.00ms, mfu 2.47%\n",
            "iter 48: loss 3.2299, time 2018.32ms, mfu 2.47%\n",
            "iter 49: loss 3.1769, time 2027.60ms, mfu 2.47%\n",
            "iter 50: loss 3.3504, time 2022.52ms, mfu 2.46%\n",
            "iter 51: loss 3.4318, time 2029.63ms, mfu 2.46%\n",
            "iter 52: loss 3.3728, time 2020.81ms, mfu 2.46%\n",
            "iter 53: loss 3.2093, time 2038.68ms, mfu 2.45%\n",
            "iter 54: loss 3.5199, time 2031.73ms, mfu 2.45%\n",
            "iter 55: loss 3.0960, time 2026.01ms, mfu 2.45%\n",
            "iter 56: loss 3.4006, time 2030.94ms, mfu 2.44%\n",
            "iter 57: loss 3.7269, time 2021.53ms, mfu 2.44%\n",
            "iter 58: loss 3.2205, time 2022.38ms, mfu 2.44%\n",
            "iter 59: loss 3.3937, time 2019.39ms, mfu 2.44%\n",
            "iter 60: loss 3.2381, time 2021.88ms, mfu 2.44%\n",
            "iter 61: loss 3.3237, time 2012.47ms, mfu 2.44%\n",
            "iter 62: loss 3.3654, time 2011.05ms, mfu 2.44%\n",
            "iter 63: loss 2.9407, time 2011.26ms, mfu 2.44%\n",
            "iter 64: loss 3.5116, time 2006.26ms, mfu 2.44%\n",
            "iter 65: loss 3.2308, time 2005.67ms, mfu 2.44%\n",
            "iter 66: loss 3.2076, time 2004.31ms, mfu 2.44%\n",
            "iter 67: loss 3.2917, time 2055.90ms, mfu 2.44%\n",
            "iter 68: loss 3.3929, time 1990.17ms, mfu 2.44%\n",
            "iter 69: loss 3.3240, time 1994.80ms, mfu 2.44%\n",
            "iter 70: loss 3.4759, time 1996.22ms, mfu 2.45%\n",
            "iter 71: loss 3.1976, time 1992.54ms, mfu 2.45%\n",
            "iter 72: loss 3.2737, time 1995.13ms, mfu 2.45%\n",
            "iter 73: loss 3.1456, time 1995.06ms, mfu 2.45%\n",
            "iter 74: loss 3.0778, time 1999.12ms, mfu 2.45%\n",
            "iter 75: loss 2.9937, time 1993.16ms, mfu 2.45%\n",
            "iter 76: loss 3.1257, time 1989.22ms, mfu 2.46%\n",
            "iter 77: loss 3.1693, time 1993.20ms, mfu 2.46%\n",
            "iter 78: loss 3.1120, time 1994.62ms, mfu 2.46%\n",
            "iter 79: loss 3.7523, time 1996.26ms, mfu 2.46%\n",
            "iter 80: loss 3.4573, time 1999.18ms, mfu 2.46%\n",
            "iter 81: loss 3.3696, time 1997.66ms, mfu 2.46%\n",
            "iter 82: loss 3.2956, time 1997.57ms, mfu 2.46%\n",
            "iter 83: loss 3.0639, time 1998.33ms, mfu 2.46%\n",
            "iter 84: loss 3.1458, time 2003.72ms, mfu 2.46%\n",
            "iter 85: loss 2.9446, time 2009.49ms, mfu 2.46%\n",
            "iter 86: loss 3.2976, time 2005.15ms, mfu 2.46%\n",
            "iter 87: loss 2.9756, time 2010.39ms, mfu 2.46%\n",
            "iter 88: loss 2.9751, time 2015.43ms, mfu 2.45%\n",
            "iter 89: loss 2.9711, time 2008.88ms, mfu 2.45%\n",
            "iter 90: loss 3.1327, time 2014.20ms, mfu 2.45%\n",
            "iter 91: loss 3.3029, time 2016.66ms, mfu 2.45%\n",
            "iter 92: loss 3.1356, time 2013.13ms, mfu 2.45%\n",
            "iter 93: loss 3.0265, time 2017.87ms, mfu 2.45%\n",
            "iter 94: loss 2.9900, time 2007.93ms, mfu 2.45%\n",
            "iter 95: loss 3.0385, time 2017.09ms, mfu 2.45%\n",
            "iter 96: loss 3.2640, time 2004.66ms, mfu 2.45%\n",
            "iter 97: loss 2.9404, time 2017.23ms, mfu 2.45%\n",
            "iter 98: loss 3.1725, time 2017.01ms, mfu 2.45%\n",
            "iter 99: loss 3.1627, time 2014.22ms, mfu 2.45%\n",
            "step 100: train loss 3.1279, val loss 3.0253\n",
            "saving checkpoint to out-theoffice\n",
            "iter 100: loss 3.2123, time 11363.88ms, mfu 2.24%\n"
          ]
        }
      ],
      "source": [
        "# alternative without creating a new train file\n",
        "#!python train.py --dtype=float16 --dataset=the-office --compile=False --device=cpu --out_dir=out-theoffice --n_layer=4 --n_head=4 --n_embd=64 --block_size=64 --batch_size=8 --init_from=gpt2 --eval_interval=100 --eval_iters=100 --max_iters=100\n",
        "!cd \"/content/drive/MyDrive/Colab Notebooks/\" && python train.py --dtype=float16 --dataset=the-office --compile=False --out_dir=out-theoffice --n_layer=4 --n_head=4 --n_embd=64 --block_size=64 --batch_size=8 --init_from=gpt2 --eval_interval=100 --eval_iters=100 --max_iters=100"
      ]
    },
    {
      "cell_type": "code",
      "execution_count": null,
      "metadata": {},
      "outputs": [],
      "source": [
        "# alternative based on config file\n",
        "#!python train.py config/train_theoffice.py"
      ]
    },
    {
      "cell_type": "markdown",
      "metadata": {},
      "source": [
        "Print sample output"
      ]
    },
    {
      "cell_type": "code",
      "execution_count": null,
      "metadata": {},
      "outputs": [
        {
          "name": "stdout",
          "output_type": "stream",
          "text": [
            "Overriding: out_dir = out-theoffice\n",
            "number of parameters: 123.65M\n",
            "No meta.pkl found, assuming GPT-2 encodings...\n",
            "\n",
            "‘Mm-hmm?    It’s just that if you take away the whole thing, you can’t get anything done.   [to Jim] I can’t help you. You’re a cop! Come on!    I didn’t expect this.   You said she had to take the job. Why are you telling me this?    Angela has been sitting in my room for 20 years.    You know what I’m telling you? You know what I’m saying?    I think we’re all going to die from the same kind of karma we all go through. I’m not even sure what it is.    This is our little secret room.    I’m going to write down everything you’ve ever said to me.    I’ve been asking for this room for years.    Ok, I can’t get this to stop.   You just gotta put the files up.     All right, I can’t see any of you here, and I’m sorry.      [to Judy] I’m just telling you, I bet you gonna be getting pretty pissed off.    Hey, this is nice. This is nice.   Wow, this is nice. This is nice.   Yes, this is nice.   Yes, this is nice.   Oh, oh, oh, oh, oh yes. Hey Michael, you have a great relationship with Michael.       Michael.    Yeah, Michael!    Mmm… I thought you said you wanted to come over.   Well, why don’t you make a phone call?        It’s a good idea.         Yeah, why don’t you call me… ”        Okay, I’m going to go.        You want to go on vacation?        I am going to go.       I was just ready to do this’s all right?       I really\n",
            "---------------\n",
            "\n",
            "› Why are you so defensive about the subject of love? I can’t help it. Because we’re all capable of it.   All right, so, did you ever think that it’s okay that I might lose my job to the guy that has her? Of course I did. I have, and I’ve been doing this for four years now. It… it’s fine. I’ll get my paycheck. It’s just the salary.    Let me get this straight, I am not the owner of any business. I’m back to my two cents on this. I just want to move on.    Nothing ever happened to you. I’m fine. Yeah. Well I’ll take my time. This is the worst day of my life.   Okay, I’m not sure if this is a joke or not, but [dramatic monologue] if it’s a joke, you should tell the truth.   Sh’t, please!  [shakes head] I’m sorry.   Shut up!   Don’t be that stupid!    Let’s talk about him.    [laughs] He’s as stupid as anybody.    I really like this.    Oh, my God, you just deleted that.    [laughs]    Oh, thank you.    Thank you.    [laughs]    [laughs] Oh. Look! I bet you do.    Good.   [laughs]      [chokes up]    [laughs]                                                                                                                                    \n",
            "---------------\n",
            "\n",
            "\n",
            "A second time.   It’s not just about Darryl.   It’s about everybody.   That’s my whole point.   But sometimes we all have to explain it out loud.   What was that? Oh, I should just tell you. Oof! You really did let me down.   I’m really sorry.   Oof!   Ok, what’d you do?   That’s my last warning.   I actually need to go.   I am not a professional, and for the sake of this, I do not have a mental health problem.   That’s right.   OK!   Yeah, as long as you are not going to be too stoned, I’ll take care of this.   [scrambling to get a pair of shoes]   Ok.   [trying to hold out]   Hi.   Hi.   Hello?   I am [Pam] Pam Schrute.   Hi.   Hey.   Hi.   Hi.                     Okay, the place is there.   Where?    But the place is just across the street.   I don’t know.   Is the place big?                                                             [holds hand]                                                                                                                          [i. Oh my God, that is so cute\n",
            "---------------\n",
            "\n",
            "\n",
            "Ok, you’re being a good little flasher.    [after being asked by another woman why she is being paid to play the part] How did you get to where you are now?   [on phone while sitting by himself] Oh, thank you.    I’ve had it down there. You’re terrible at speaking on the phone.   Don’t use that.   Yes. I have on a desk. [shakes hand with desk] [on phone]   How long have you been a waitress?   Maybe five or six years.   I do not dream about being a waitress.   Right. I am a waitress.   What do you make of all that?   I don’t know.   What do you make of all that?   Hey, can you help me?   I don’t have a money-lending career.   I’ve already made a lot of money.   It’s not unusual for my employer to pay me a percentage of my salary.   I’m glad you agreed.   Yeah.   I don’t want you to be a jerk or anything.   You can’t be a jerk. I didn’t know that.   But I know that.   I’m glad you agreed, too.   Well, I’m sorry that you’re making it sound like you’re just trying to bully me.   But hey.   I didn’t get it. I did.   Jim, I kept telling you that it was OK, that I never told you, that I never said you wanted to be with me.   No, not at all.   After I told you a few things, what was the worst thing that happened to you?   I have no idea.   I moved to Colorado.   Anything else?   All right, then.   You’re welcome.   Yes. Yes, I am. And I am welcome.   Yes, I am.   How many people have changed their minds?   One.   I am completely fine with that.   Screens.   [to Michael] How do you\n",
            "---------------\n",
            "\n",
            " [all-out] I’m sorry... ‘’   Well... it’s a gift from a really nice man.    I just wanted to know why the world has decided to use the new baby boom generation of parents as their primary source of labor.   Well, maybe that’s not what it is.   I don’t know. Is it so much fun to be a baby boom?   I wish I could stop. I do know some of you.   No, no, no!   Yes. [continued]   Oh, no.   No. I feel like I need to tell you something.          [chuckles] Michael?   Oh, that’s good.   Oh, I wanted to tell you.   What do you mean buddy?   You know what?   You’re so friendly.   [all smiles]   [everyone smiles]   That’s good.   [laughing]   [laughing]   Oh, I am so glad I’d hear your personal story.   Oh.   Why are you so mad?   I don’t think you are at the point of having a personality crisis.   No.   You can have a personality crisis around any of this.   I’m not in the mood to be angry.    No, I’m not in the mood to be offended.   No, I’m not in the mood to be upset.   I’m not in the mood to be upset. This is not my first time at the store.    I am not offended by the product, because it is very good. [picks up phone from outside store] Hmm. What are you doing?  Yes, go for a walk.  Yes.  Oh, I’m going to make you wait until next week to be able to give you a call. Okay. What are you doing tonight?  I’m gonna apologize to every woman in the room.  I just wanted you to know that I love my job.  So why don’t you just go ahead and check it out.    Are there any specific times that girls\n",
            "---------------\n",
            "\n",
            "\n",
            "Michele. Hey. Hey. I just got off the plane. Where is it? It’s late. What are you doing? All right. [Jim throws the phone at her] Jim. What? Hello? Listen, I don’t know. What are you doing? Ok.  Shhh. Shut up. I feel bad about calling. I’m not… [gets up] I’m not going to. [shrugs]   What happened? Dunder Mifflin? I was just doing my thing. I was just leaving. [dressing for a date]   Come on. Come on. You need to look pretty. I’m going back to the office. Come on. [singing] Come on. I’m gonna go. Ugh. I’ve been begging you to do it for a while.   Hey, Michael, I have a question for Jim. [Jim chuckles] That’s how I do it.   I do it for all the guys. I need everybody to do it for me. Anyone who wants to.   I’m not going to allow anybody to be a jerk.   I’ve been acting like a jerk for a long time, so naturally I have realized I have no business acting like a jerk.   No.   No.   Let’s get this over with.   No, no, no, no, no, no. I mean, I’ve been a jerk for awhile.  I think he’s actually a jerk for not going to the bathroom sooner.   No, I don’t have a date.  I’m not dating him.  I don’t even know what he’s doing.  That is not a date.  I’m dating him. I am dating him.    [speaking with a small voice] Alright. Come on.    Is that [shouting] Robert’s…  Michael.    Okay, great.  Michael, I’m going to have you make some choice’s to make.  Good.  Hey, I know that you’re not planning on going to the airport.  I’ll be there.   I know that I\n",
            "---------------\n",
            "\n",
            "“If you had a little more, and you were on a plane in a weird place, and you just kind of fell out of a helicopter and fell off the plane,” you’d lose some of your ability to say what you’ve been saying.   For the love of God we’re all from the same place, so that’s a good thing.   No, you’re probably not.   Right. [sighs] It’s just that I’m from a lot of different places.   Oh, my God.   I just remember the last time I saw one of my friends.   …who was an assistant with a giant robot.   She was in a car in an ambulance, and she said you were all kind of just a little clod.   She was just so sweet.   Oh!   Ooh!   Oh, you know what?   For all I know, she’s gonna fire me.   You know what?   But she’s gonna be fired, and I won’t.   Alright.   So, you wanna keep doing what you do?   What? I really need to stay in this job.   So you know what I did? I’m gonna stay in this job, and I’m gonna tell you why.   So, you’re gonna get a job, and then you’re gonna make noise and harass me, and then it will be the last job you’ll ever have.  But you don’t get to do those things.  You’re not supposed to.  And then everybody’s gonna hate you.   [doing the handkerchief] So, I’ll get it.  [smiling]   There’s gotta be a way for you to have a good time. Yes, sir.   [feels bad for] the people around me.   [thinking] “Dwemer” and “Dwemer”   [tries to talk]  “Dwemer” and “Dwemer””””””””””””�\n",
            "---------------\n",
            "\n",
            "Sakura shakes her head. I’ll try to convince her she wants what she wants.  [puts up her paper] Hello? Hello?    I have heard that there’s a rumor going around that if a picture of a person goes viral, the person who actually is is going to have a fall. That is true. I’m not done.    What are your plans for the future?    For the next few weeks I’ll be working overtime. Yeah, well I don’t know.  They usually tell you that it is good for your health.  Anybody else hear about my dental problems?     You’re not a dentist…?  [gestures to his own computer screen] Like a dentist…  What kind of a dentist?  Nope.    I’m in the same boat that you are.  I’ve always wanted to go overseas.  But, I don’t want to.  I don’t want to go on vacation.  I want to go back home.  And I realized that it’s really hard to get back on board with these ideas.  I’m thinking about doing some interesting things.  I’m thinking about how to spend our time.  Maybe we could go in on a cruise –   I think, that would be a nice vacation.  I actually think that taking the bus would be nice…  I’m not sure…  [in his office] I’ll go in on a cruise.    Okay, good morning.  Hey, Michael, Hi.  Hey, I’m going to use your phone, and I’m going to put your password in the code. I’m going to go into the bathroom, and I’m going to use your password. And then the password goes in the code, and then you will be able to plug it in.   [to Bob] Thank you, Jim. [hangs up] You have some idea of what I’m doing here. You know what? I’m only on the phone, you need to call me before I can call you when I’m on the phone.    [to Bob] Oh, thanks! I’m very good at\n",
            "---------------\n",
            "\n",
            "”Mmhmm, it’s just a question. I thought you were gonna say it at lunch? I thought you should just say it. I thought you should just say it at lunch.   Can we both re-watch that?    [after the presentation] Michael, look at those. They were not supposed to be there. [gives Pam a thumbs up. Pam nods]    So now that you got those, we really don’t know?   [to Pam] We’re not doing anything.   I would like to thank everyone for their kind words and prayers on Sunday, and thank you all for taking up your time.    [to Pam] Go!   [to Jim] Okay, Michael.   [to Jim] You guys are good friends.    What were you doing up until about nine in the morning?    [to Pam] I was going to go to the [to Michael] office, but I think I was going to go for a quick coffee.   [to Pam] You guys are good friends?   [to Pam] I love you.   I don’t know what you’re doing, you know that? You know what that is? I know, we’ve been together since we were little, and I never told him that. I know.   I love you.   It’s kind of funny that you wanna reveal the truth.   [singing] Hahaha! [chuckles] I was just wondering if you’re doing that.   Oh! Here’s where he’s going to tell you.   He’s gonna throw a bomb and then he will tell you a lot. And I don’t know why he’s talking about that. I mean, I know that I’ll be in a lot of trouble with the law, but I’m still here.   What did I do to ya? Right? Come right here. What? Fine then. [puts his hands up]   Hey, hey, hey. Yeah, you got it. I should get to work. Okay, you know what? That’s my job. This is my job. [hits chair] Hey, hey, you�\n",
            "---------------\n",
            "\n",
            "”An emergency emergency. Um, God, I just want to be extremely clear about this.  Don’t worry. We’re here.   All right. Okay. [Pats a hand on his head]   Yeah, okay.  I’m just disappointed in the way that Pam’s trying to be a good partner.  Of course not.   Hey Michael!   Michael, what’s wrong?    OK, well, I’m sure that you were thinking of that.   I don’t know anything about…   You know what? I’m sorry. I mean, I think I should just go, but…    No, just make sure that we get along okay.   No, we’re not gonna be able to get along okay.    No, we’re not gonna be able to get along okay.   No, our relationship is not being good.   No. We’re not happy.   No.    We’re not happy.    Yeah, sure.    I think it’s a lot easier for everybody if you don’t think about it. Maybe you don’t.   [laughs] I’m not happy with the whole premise.   Okay, so everybody knows that I am the first person to ever get in a car accident and I have to take it back.   You have to get those cork guys.   That’s a horrible idea, but you’re right.   There’s a whole lot of people out there who are worried about me, and I’ve been down this road before.   And I was thinking, well maybe I’ll be able to stand on my own two feet.   Oh, I have enough to eat for two hours a day.   I’m feeling better.   I have enough to eat for two hours a day.   I’ve got more to eat for two hours a day.   Oh, I have to have more to eat in order to survive.   Why?   I have an idea, but I’m probably going to have to give up on it.   Are you still throwing\n",
            "---------------\n"
          ]
        }
      ],
      "source": [
        "#!cd ./ && python sample.py\n",
        "!cd \"/content/drive/MyDrive/Colab Notebooks/\" && python sample.py"
      ]
    },
    {
      "cell_type": "code",
      "execution_count": null,
      "metadata": {},
      "outputs": [
        {
          "name": "stdout",
          "output_type": "stream",
          "text": [
            "Overriding: out_dir = out-theoffice\n",
            "Overriding: dtype = float16\n",
            "Overriding: num_samples = 5\n",
            "Overriding: max_new_tokens = 10\n",
            "Overriding: start = Michael\n",
            "number of parameters: 123.65M\n",
            "No meta.pkl found, assuming GPT-2 encodings...\n",
            "Michael Michael] Hey, Michael. Hey, we�\n",
            "---------------\n",
            "Michael ]   More for women than men.\n",
            "---------------\n",
            "Michael, Michael?  Hello?  Who are you\n",
            "---------------\n",
            "Michael! Come on, tell me something!”\n",
            "---------------\n",
            "Michael’s a man. And he’\n",
            "---------------\n"
          ]
        }
      ],
      "source": [
        "#!cd ./ && python sample.py --dtype=float16 --num_samples=5 --max_new_tokens=10 --start=\"Michael\"\n",
        "!cd \"/content/drive/MyDrive/Colab Notebooks/\" && python sample.py --dtype=float16 --num_samples=5 --max_new_tokens=10 --start=\"Michael\""
      ]
    },
    {
      "cell_type": "code",
      "execution_count": 18,
      "metadata": {
        "colab": {
          "base_uri": "https://localhost:8080/"
        },
        "id": "XhT5irGry-V0",
        "outputId": "eac9dc94-1fca-4f15-bf37-655795c26117"
      },
      "outputs": [
        {
          "name": "stdout",
          "output_type": "stream",
          "text": [
            "Overriding: out_dir = out-theoffice\n",
            "Overriding: dtype = float16\n",
            "Overriding: num_samples = 5\n",
            "Overriding: start = Today\n",
            "number of parameters: 123.65M\n",
            "No meta.pkl found, assuming GPT-2 encodings...\n",
            "Today. ’Cause we’re in the right place right now. Can’t take it any more. You know what? I’m not here to vote for you. I’m not gonna vote for you. You know what? It’s an open-ended question. Right now we’re talking about a matter of public concern. And it’s a sensitive issue. But you didn’t call me. And I’m not going to tell anyone. [Jim stops] Did you call me? [holds up a phone]   This is what we all feel.  We’re all going to love it.   And now you guys have created something that I, Meredith, can only imagine.  This is our little secret room.  [to Jim] Here, see?  I’m in here, too.  And here you’re, you’re there.  And here you’re just… I’m just.  Would you like to try something, Jim?  Yeah, just for a second, Jim.  I’m just thinking about you.   [singing] Hey! Hello! Hey!  I don’t have to take on the role, just sing. Hey! Hi. Hey! Hi!  It’s me! How’s your day? Wow! Wow!  I’m all smiles.  I am more worried about the clients than anything.  Yes I do. Oh, you know what? I’m gonna be happy.  I’m gonna be happy.      Michael.  Yeah, you know what?  I’m going to be happy.  Hey Michael.  Hi Michael.            Because we’re not dating.  It’s a good idea.             We just need an extra two… ”We’re going to do one with Mr. Dunder Mifflin.          If you don’t think Mr. Dunder Mifflin is your man, you are not our man. I guess it’s his fault.           I really\n",
            "---------------\n",
            "Today, I’m a male. I’ve been married for ten years. I’m a great guy. I’m a great guy. All right, alright, I’m not the one who dares to take a man for himself. I am a father. I am a man. I am, like yourself, a man. I am a man. Right? You… you know what, it’s a winner-take-all situation.  The winner-take-all situation.    You’re playing with me.   You know what?  I think it must be that ’em.     [everyone is talking loudly]  Hey, hey, hey, hey, hey, hey.  I’m Tom Cruise’s girlfriend.                         [to Michael]  Where are you going?  I’m going to be late.             [on phone] Michael, you are the most perfect person I know.  I told you that would not be my goal.  I’m just… I’m just mad now.  I’ve been as a baby for a couple months now and I don’t even know when I’m going to get pregnant.  Oh, no, Kevin.  Okay, I think I am gonna go with this.  Or, on the other hand, I think I’m gonna go with this.   [to Andy] We know you’re not into getting pregnant.  We know you’re not into having sex.  And you’re not gonna do that.  We’ll see.  [to Jim] I think I am gonna go.  [to Andy] I do not want you to see this.  I do not want you to see it.  I’m sorry.  Wait.  I think we’re going to have a big party tonight.  It is really, really important that we get together in the front office.  I think we’re just gonna have to do this together.  [Pam comes in, gives Pam, and proceeds to pose behind Pam, in front of her,\n",
            "---------------\n",
            "Today, does it have to be that way? [laughter] I’m assuming you’re asking if it’s a business decision. No. That’s awesome. But it doesn’t explain it. [laughs]  What about this? Oh, I should just rephrase it. [laughs] The business decision is still my. That’s where it’s at.  So as you can tell, the company is still in good shape. That’s my thought process.                [laughs]   Hey! Michael, do you have a fax machine in your office?   Yeah, I don’t do fax machines, but as long as you have a fax machine, I mean, it’ll be nice to see you, and if you ever do need a fax machine, you know what? We’re not supposed to have fax machines.         You know what? I think it’s gonna be good.           Hey, I don’t know how you are gonna help me with this, but I’m really hoping you don’t get too worked up about the idea of me having to go.  But I guess you’re right.  She’s going to be a very, very good wife, right?  She’s going to be a very good husband.  She is no longer going to be your wife.    Hey, I just wanted to take a moment to thank all of you for your support.   Thank you all.   You guys really helped me.   I was surprised to learn you were…   And thank you, I love you.   I love you too.   I don’t even…   No, I don’t.   You know what?   I think…   It’s just…   Oh, hey, I’m just glad I’m not embarrassed by a bear.   [screams]   Alright guys, let’s go.   And if I’m gonna do anything, I’ll do it personally. [chuckles]   I’m not\n",
            "---------------\n",
            "Today, I do not approve of this. But I don’t think they’re going to be so bad… Just… um… Uh…   Yeah, you mean Jim?   Well, I mean… I’m not sure what you’re expecting me to say.   I will say it, there. You will, I’ll say it.   No, I’m not going to say it. I’m not going to say it.   Okay, okay.   Well, it’s a good thing I’m a mother.   Me too. Thank you.   Oh.   Right. I am the one that is being blamed for the whole thing.   Yeah.   I thought you could’t do this to me.    You think I’m a good parenting person?   No, you’re not.   So, what I’ve been working on is a new piece of advice, a new idea.   Why are you guys so divided? Why are you guys always fighting over ideas?    I’m not about that. I’ve been here before.    Do you think you can trust the people in this office?   I didn’t know anybody. I bought my first chair, and I’m sorry.   I’m not going to pick up on your phone. Okay, I am going to call you for a second.   No, no, no, no, no.   I didn’t get it. I did.   Jim, I kept telling you, it was OK, I was never gonna do anything, I was just just gonna go out there, I was just going to go out there and burn down some people to make a point, because what was I supposed to do? I’m not gonna do anything to offend anyone. I’m just gonna go out there and do what I said, then I will be having a full-scale attack. I will be attacking the world. Everything. Anything and everything.   [mocking Michael] Okay. How many people have changed their minds? It’s a small group. You know the ones that are thinking the same thing as I? They’re not just\n",
            "---------------\n",
            "Today [sigh]. Hey, he’s your boss.   [shaking hands with Ryan] I’m a really good manager. I’m actually an awesome sales manager. I used to be a sales manager, but then I started working at a restaurant. So I’m kind of a sales guy. I’m a big boss. I’m very strict. You are a sales guy, but I’m not the sales guy. And I’m not the sales guy. No, I’m not the sales guy. [continues to sell hamburgers] Okay. I’m making big bucks. [laughs] Just a big buck.      [laughing] Does Michael just… love me? No. Look, I have a kid. I’m seven, but I’m pregnant. And you know what? You’re going to have to figure out my future. What would you do if I told you that you were going to have my baby? You want my baby? What about my baby? You know what? I’m just going to call this when I’m done with you. Let’s just go back and see what happens. I’m a realist. I’m a realist who believes in the inherent goodness of nature. And I have no problem with the beauty of nature. I just don’t know, it’s a matter of, what do you guys think? And you shouldn’t do it, don’t you? [Chuckles] I don’t know, it’s just… Have you asked why this guy is taking you so seriously? Because I know what you’re doing. I know what you’re doing. You are a liar… [shakes head] You’re a genius. Why won’t you stop?   I also read the article about the Oscar Pistorius trial. Why do you think that’s an Oscar? [shakes head] Because Oscar got up to take the case. Now let’s talk about the Oscar Pistorius trial. He’s made a very bad choice. If Oscar chose to take the case, then this would have been a case of trial-by-jury, as Mr. Pistorius said\n",
            "---------------\n"
          ]
        }
      ],
      "source": [
        "!cd \"/content/drive/MyDrive/Colab Notebooks/\" && python sample.py --out_dir=out-theoffice --dtype=float16 --num_samples=5 --start=\"Today\""
      ]
    },
    {
      "cell_type": "code",
      "execution_count": 19,
      "metadata": {
        "colab": {
          "base_uri": "https://localhost:8080/"
        },
        "id": "gkvxBxi4zuCW",
        "outputId": "41b362ba-a1f4-44f7-ce7c-52f20be9d6b1"
      },
      "outputs": [
        {
          "name": "stdout",
          "output_type": "stream",
          "text": [
            "Overriding: out_dir = out-theoffice\n",
            "Overriding: dtype = float16\n",
            "Overriding: num_samples = 2\n",
            "Overriding: start = That's what she said\n",
            "number of parameters: 123.65M\n",
            "No meta.pkl found, assuming GPT-2 encodings...\n",
            "That's what she said. ‘Make sure that they have a warning for you.  Give it to them. And then you’re done. Who knows?   Do you regret having an appointment last night?   I’m afraid so.   What’s going on?   I didn’t expect this.   You said she had to take care of herself. In a few seconds…   I mean she has to take care of herself.   She has to take care of herself.   Did you say that to her?   Michaela…   You’re gonna sue somebody for your negligence and   I’m proud to sue you.   I think, uh, I would at least have a chance to settle the case before it gets to trial.   Yes, that sounds like a really good idea.   Thank you.   No, I didn’t.   For God Almighty, be one with the baby.   Oh, yes.   Would you like to try the baby?   Yeah, just for one last chance, and I don’t see any good reasons for you to stay here.   [after making a speech, asking for advice] How very interesting.   [speaking to the nurse]   Wow. And I know that you were a lot more than a waitress. You’re a nurse of some sort. This restaurant has all kinds of great things. It’s the smallest in the city. I recommend it. If you want to go, you can do it here.   I’m just getting started. If you like what I’m doing, you can do it here. Where ever you choose, I want you to tell me how it went. Mm, why don’t you tell me how it went?     You know what? I think it was a little too much. And my mind went blank. I have no idea why you’re…    Hey, Hey! Hi! Hey! Uh, hmm! [Hearing news from the manager] The game is over now, Michael! No, no, no, no, no. I don’t need you.   Oh! Robert? Everybody knows what I’ve been doing to you. (whispers) I really\n",
            "---------------\n",
            "That's what she said: You know what, if I ever get a break at my boss, I will.   [seeing a baby] What’s that?   [in a cubicle, and looking around] What? They are what? You think that I am going to run them over? That’s wrong. I have, and I have a plan. I will run them over. And just… [in a back room] Shut up! Shut up! Shut up! [in a back room] Shut up! Shut up! Shut up! Shut up! Shut up! Shut up! Shut up! Shut up! Shut up! Shut up! Shut up! Shut up! [everyone is giggling] Shut up! Shut up! Shut up! Shut up! Shut up! Shut up! Shut up! Shut up! Shut up! Shut up! Shut up! Shut up! Shut up! Shut up! Shut up! Shut up! Shut up! Shut up! Shut up! Shut up! Shut up! Shut up! Shut up! Shut up! Shut up! Shut up! Shut up! Shut up! Shut up! Shut up! Shut up! Shut up! Shut up! Shut up! Shut up! Shut up! Shut up! Shut up! Shut up! Shut up! Shut up! Shut up! Shut up! Shut up! Shut up! Shut up! Shut up! Shut up! Shut up! Shut up! Shut up! Shut up! Shut up! Shut up! Shut up! Shut up! Shut up! Shut up! Shut up! Shut up! Shut up! Shut up! Shut up! Shut up! Shut up! Shut up! Shut up! Shut up! Shut up! Shut up! Shut up! Shut up! Shut up! Shut up! Shut up! Shut up! Shut up! Shut up! Shut up! Shut up! Shut up! Shut up! Shut up! Shut up! Shut up! Shut up! Shut up! Shut up! Shut up! Shut up! Shut up! Shut up! Shut up! Shut up! Shut up! Shut up! Shut up! Shut up! Shut up! Shut up! Shut up! Shut up! Shut up! Shut up! Shut up! Shut up! Shut up! Shut up! Shut up! Shut up! Shut up! Shut up! Shut up! Shut up! Shut up! Shut up! Shut up! Shut up\n",
            "---------------\n"
          ]
        }
      ],
      "source": [
        "!cd \"/content/drive/MyDrive/Colab Notebooks/\" && python sample.py --out_dir=out-theoffice --dtype=float16 --num_samples=2 --start=\"That's what she said\""
      ]
    }
  ],
  "metadata": {
    "accelerator": "GPU",
    "colab": {
      "gpuType": "T4",
      "provenance": []
    },
    "kernelspec": {
      "display_name": "Python 3",
      "name": "python3"
    },
    "language_info": {
      "codemirror_mode": {
        "name": "ipython",
        "version": 3
      },
      "file_extension": ".py",
      "mimetype": "text/x-python",
      "name": "python",
      "nbconvert_exporter": "python",
      "pygments_lexer": "ipython3",
      "version": "3.11.5"
    }
  },
  "nbformat": 4,
  "nbformat_minor": 0
}
